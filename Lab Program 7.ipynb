{
 "cells": [
  {
   "cell_type": "code",
   "execution_count": 3,
   "metadata": {},
   "outputs": [
    {
     "name": "stdout",
     "output_type": "stream",
     "text": [
      "Collecting pgmpy\n",
      "  Downloading https://files.pythonhosted.org/packages/06/19/d508949e8ac7b32e639f15e854a5f5ed710a4118e4f6692bddaccc390d88/pgmpy-0.1.13-py3-none-any.whl (324kB)\n",
      "Requirement already satisfied: statsmodels in c:\\anaconda3\\lib\\site-packages (from pgmpy) (0.10.0)\n",
      "Collecting torch (from pgmpy)\n",
      "  Downloading https://files.pythonhosted.org/packages/5d/9f/68a18d38927ccf56f30062344b2f1e439dc293610711958b249c0a1f7606/torch-1.7.1-cp37-cp37m-win_amd64.whl (184.1MB)\n",
      "Requirement already satisfied: joblib in c:\\anaconda3\\lib\\site-packages (from pgmpy) (0.13.2)\n",
      "Requirement already satisfied: pyparsing in c:\\anaconda3\\lib\\site-packages (from pgmpy) (2.4.0)\n",
      "Requirement already satisfied: scikit-learn in c:\\anaconda3\\lib\\site-packages (from pgmpy) (0.21.2)\n",
      "Requirement already satisfied: scipy in c:\\anaconda3\\lib\\site-packages (from pgmpy) (1.2.1)\n",
      "Requirement already satisfied: pandas in c:\\anaconda3\\lib\\site-packages (from pgmpy) (0.24.2)\n",
      "Requirement already satisfied: numpy in c:\\anaconda3\\lib\\site-packages (from pgmpy) (1.16.4)\n",
      "Requirement already satisfied: networkx in c:\\anaconda3\\lib\\site-packages (from pgmpy) (2.3)\n",
      "Requirement already satisfied: tqdm in c:\\anaconda3\\lib\\site-packages (from pgmpy) (4.32.1)\n",
      "Requirement already satisfied: patsy>=0.4.0 in c:\\anaconda3\\lib\\site-packages (from statsmodels->pgmpy) (0.5.1)\n",
      "Collecting typing-extensions (from torch->pgmpy)\n",
      "  Downloading https://files.pythonhosted.org/packages/60/7a/e881b5abb54db0e6e671ab088d079c57ce54e8a01a3ca443f561ccadb37e/typing_extensions-3.7.4.3-py3-none-any.whl\n",
      "Requirement already satisfied: python-dateutil>=2.5.0 in c:\\anaconda3\\lib\\site-packages (from pandas->pgmpy) (2.8.0)\n",
      "Requirement already satisfied: pytz>=2011k in c:\\anaconda3\\lib\\site-packages (from pandas->pgmpy) (2019.1)\n",
      "Requirement already satisfied: decorator>=4.3.0 in c:\\anaconda3\\lib\\site-packages (from networkx->pgmpy) (4.4.0)\n",
      "Requirement already satisfied: six in c:\\anaconda3\\lib\\site-packages (from patsy>=0.4.0->statsmodels->pgmpy) (1.12.0)\n",
      "Installing collected packages: typing-extensions, torch, pgmpy\n",
      "Successfully installed pgmpy-0.1.13 torch-1.7.1 typing-extensions-3.7.4.3\n",
      "Note: you may need to restart the kernel to use updated packages.\n"
     ]
    }
   ],
   "source": [
    "pip install pgmpy"
   ]
  },
  {
   "cell_type": "code",
   "execution_count": 4,
   "metadata": {},
   "outputs": [],
   "source": [
    "import numpy as np\n",
    "import pandas as pd\n",
    "import csv\n",
    "from pgmpy.estimators import MaximumLikelihoodEstimator\n",
    "from pgmpy.models import BayesianModel\n",
    "from pgmpy.inference import VariableElimination"
   ]
  },
  {
   "cell_type": "code",
   "execution_count": 5,
   "metadata": {},
   "outputs": [],
   "source": [
    "heartDisease = pd.read_csv('C:/Users/Mili/OneDrive/Desktop/Mite/4MT17CS058_Milind/Lab7_heart.csv')\n",
    "heartDisease = heartDisease.replace('?',np.nan)"
   ]
  },
  {
   "cell_type": "code",
   "execution_count": 6,
   "metadata": {},
   "outputs": [
    {
     "name": "stdout",
     "output_type": "stream",
     "text": [
      "Sample instances from the dataset are given below\n",
      "   age  sex  cp  trestbps  chol  fbs  restecg  thalach  exang  oldpeak  slope  \\\n",
      "0   63    1   1       145   233    1        2      150      0      2.3      3   \n",
      "1   67    1   4       160   286    0        2      108      1      1.5      2   \n",
      "2   67    1   4       120   229    0        2      129      1      2.6      2   \n",
      "3   37    1   3       130   250    0        0      187      0      3.5      3   \n",
      "4   41    0   2       130   204    0        2      172      0      1.4      1   \n",
      "\n",
      "  ca thal  heartdisease  \n",
      "0  0    6             0  \n",
      "1  3    3             2  \n",
      "2  2    7             1  \n",
      "3  0    3             0  \n",
      "4  0    3             0  \n"
     ]
    }
   ],
   "source": [
    "print('Sample instances from the dataset are given below')\n",
    "print(heartDisease.head())"
   ]
  },
  {
   "cell_type": "code",
   "execution_count": 7,
   "metadata": {},
   "outputs": [
    {
     "name": "stdout",
     "output_type": "stream",
     "text": [
      "\n",
      " Attributes and datatypes\n",
      "age               int64\n",
      "sex               int64\n",
      "cp                int64\n",
      "trestbps          int64\n",
      "chol              int64\n",
      "fbs               int64\n",
      "restecg           int64\n",
      "thalach           int64\n",
      "exang             int64\n",
      "oldpeak         float64\n",
      "slope             int64\n",
      "ca               object\n",
      "thal             object\n",
      "heartdisease      int64\n",
      "dtype: object\n"
     ]
    }
   ],
   "source": [
    "print('\\n Attributes and datatypes')\n",
    "print(heartDisease.dtypes)"
   ]
  },
  {
   "cell_type": "code",
   "execution_count": 8,
   "metadata": {},
   "outputs": [],
   "source": [
    "model =BayesianModel([('age','heartdisease'),('sex','heartdisease'),(\n",
    "'exang','heartdisease'),('cp','heartdisease'),('heartdisease',\n",
    "'restecg'),('heartdisease','chol')])"
   ]
  },
  {
   "cell_type": "code",
   "execution_count": 9,
   "metadata": {},
   "outputs": [
    {
     "name": "stdout",
     "output_type": "stream",
     "text": [
      "\n",
      " Learning CPD using Maximum likelihood estimators\n"
     ]
    }
   ],
   "source": [
    "print('\\n Learning CPD using Maximum likelihood estimators')\n",
    "model.fit(heartDisease,estimator=MaximumLikelihoodEstimator)"
   ]
  },
  {
   "cell_type": "code",
   "execution_count": 10,
   "metadata": {},
   "outputs": [
    {
     "name": "stdout",
     "output_type": "stream",
     "text": [
      "\n",
      " Inferencing with Bayesian Network:\n"
     ]
    }
   ],
   "source": [
    "print('\\n Inferencing with Bayesian Network:')\n",
    "HeartDiseasetest_infer = VariableElimination(model)"
   ]
  },
  {
   "cell_type": "code",
   "execution_count": 11,
   "metadata": {},
   "outputs": [
    {
     "name": "stdout",
     "output_type": "stream",
     "text": [
      "\n",
      " 1.Probability of HeartDisease given evidence=restecg :1\n"
     ]
    },
    {
     "name": "stderr",
     "output_type": "stream",
     "text": [
      "Finding Elimination Order: : 100%|██████████| 5/5 [00:00<00:00, 5018.31it/s]\n",
      "Eliminating: age: 100%|██████████| 5/5 [00:00<00:00, 143.25it/s]\n"
     ]
    },
    {
     "name": "stdout",
     "output_type": "stream",
     "text": [
      "+-----------------+---------------------+\n",
      "| heartdisease    |   phi(heartdisease) |\n",
      "+=================+=====================+\n",
      "| heartdisease(0) |              0.1012 |\n",
      "+-----------------+---------------------+\n",
      "| heartdisease(1) |              0.0000 |\n",
      "+-----------------+---------------------+\n",
      "| heartdisease(2) |              0.2392 |\n",
      "+-----------------+---------------------+\n",
      "| heartdisease(3) |              0.2015 |\n",
      "+-----------------+---------------------+\n",
      "| heartdisease(4) |              0.4581 |\n",
      "+-----------------+---------------------+\n"
     ]
    }
   ],
   "source": [
    "print('\\n 1.Probability of HeartDisease given evidence=restecg :1')\n",
    "q1=HeartDiseasetest_infer.query(variables=['heartdisease'],evidence={'restecg':1})\n",
    "print(q1)"
   ]
  },
  {
   "cell_type": "code",
   "execution_count": 12,
   "metadata": {},
   "outputs": [
    {
     "name": "stdout",
     "output_type": "stream",
     "text": [
      "\n",
      " 2.Probability of HeartDisease given evidence= cp:2 \n"
     ]
    },
    {
     "name": "stderr",
     "output_type": "stream",
     "text": [
      "Finding Elimination Order: : 100%|██████████| 5/5 [00:00<00:00, 2507.06it/s]\n",
      "Eliminating: exang: 100%|██████████| 5/5 [00:00<00:00, 227.82it/s]\n"
     ]
    },
    {
     "name": "stdout",
     "output_type": "stream",
     "text": [
      "+-----------------+---------------------+\n",
      "| heartdisease    |   phi(heartdisease) |\n",
      "+=================+=====================+\n",
      "| heartdisease(0) |              0.3610 |\n",
      "+-----------------+---------------------+\n",
      "| heartdisease(1) |              0.2159 |\n",
      "+-----------------+---------------------+\n",
      "| heartdisease(2) |              0.1373 |\n",
      "+-----------------+---------------------+\n",
      "| heartdisease(3) |              0.1537 |\n",
      "+-----------------+---------------------+\n",
      "| heartdisease(4) |              0.1321 |\n",
      "+-----------------+---------------------+\n"
     ]
    }
   ],
   "source": [
    "print('\\n 2.Probability of HeartDisease given evidence= cp:2 ')\n",
    "q2=HeartDiseasetest_infer.query(variables=['heartdisease'],evidence={'cp':2})\n",
    "print(q2)"
   ]
  },
  {
   "cell_type": "code",
   "execution_count": null,
   "metadata": {},
   "outputs": [],
   "source": []
  }
 ],
 "metadata": {
  "kernelspec": {
   "display_name": "Python 3",
   "language": "python",
   "name": "python3"
  },
  "language_info": {
   "codemirror_mode": {
    "name": "ipython",
    "version": 3
   },
   "file_extension": ".py",
   "mimetype": "text/x-python",
   "name": "python",
   "nbconvert_exporter": "python",
   "pygments_lexer": "ipython3",
   "version": "3.7.3"
  }
 },
 "nbformat": 4,
 "nbformat_minor": 2
}
